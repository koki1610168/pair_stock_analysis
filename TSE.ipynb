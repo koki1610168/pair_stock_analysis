{
 "cells": [
  {
   "cell_type": "code",
   "execution_count": 1,
   "id": "67d32696",
   "metadata": {},
   "outputs": [],
   "source": [
    "import numpy as np\n",
    "import matplotlib.pyplot as plt\n",
    "import pandas as pd\n",
    "\n",
    "from pandas_datareader import data as pdr\n",
    "import yfinance as yf\n",
    "yf.pdr_override()"
   ]
  },
  {
   "cell_type": "code",
   "execution_count": 4,
   "id": "62bc5167",
   "metadata": {},
   "outputs": [],
   "source": [
    "ele_gas = ('9501.T', '9502.T', '9503.T', '9504.T', '9505.T', '9506.T', '9507.T',\n",
    "            '9508.T', '9509.T', '9511.T', '9513.T', '9517.T', '9519.T',\n",
    "              '9531.T', '9532.T', '9533.T', '9534.T', '9535.T', '9536.T',\n",
    "              '9543.T', '9551.T')"
   ]
  },
  {
   "cell_type": "code",
   "execution_count": 5,
   "id": "e5267e38",
   "metadata": {},
   "outputs": [],
   "source": [
    "def calculate_returns(prices):\n",
    "    return (prices / prices.shift(1) - 1) * 100"
   ]
  },
  {
   "cell_type": "code",
   "execution_count": 9,
   "id": "c9c27d5f",
   "metadata": {},
   "outputs": [],
   "source": [
    "def get_data(tickers):\n",
    "    df = pd.DataFrame()\n",
    "    for ticker in tickers:\n",
    "        print(ticker)\n",
    "        data = pdr.get_data_yahoo(ticker,start = '2006-01-01',end='2024-09-09')['Adj Close']\n",
    "        data.name = ticker\n",
    "        df = pd.concat([df,data],axis = 1)\n",
    "        \n",
    "    for i in np.arange(len(df.index)):\n",
    "        df.index.values[i] = str(df.index[i].date())\n",
    "\n",
    "    df.index = df.index.rename('Date')\n",
    "    \n",
    "    return df"
   ]
  },
  {
   "cell_type": "code",
   "execution_count": 19,
   "id": "6274d53e",
   "metadata": {},
   "outputs": [
    {
     "name": "stderr",
     "output_type": "stream",
     "text": [
      "[*********************100%%**********************]  1 of 1 completed\n",
      "[*********************100%%**********************]  1 of 1 completed"
     ]
    },
    {
     "name": "stdout",
     "output_type": "stream",
     "text": [
      "9501.T\n",
      "9502.T\n",
      "9503.T\n"
     ]
    },
    {
     "name": "stderr",
     "output_type": "stream",
     "text": [
      "\n",
      "[*********************100%%**********************]  1 of 1 completed\n",
      "[*********************100%%**********************]  1 of 1 completed\n",
      "[*********************100%%**********************]  1 of 1 completed"
     ]
    },
    {
     "name": "stdout",
     "output_type": "stream",
     "text": [
      "9504.T\n",
      "9505.T\n",
      "9506.T\n"
     ]
    },
    {
     "name": "stderr",
     "output_type": "stream",
     "text": [
      "\n",
      "[*********************100%%**********************]  1 of 1 completed\n",
      "[*********************100%%**********************]  1 of 1 completed\n",
      "[*********************100%%**********************]  1 of 1 completed\n"
     ]
    },
    {
     "name": "stdout",
     "output_type": "stream",
     "text": [
      "9507.T\n",
      "9508.T\n",
      "9509.T\n"
     ]
    },
    {
     "name": "stderr",
     "output_type": "stream",
     "text": [
      "[*********************100%%**********************]  1 of 1 completed\n",
      "[*********************100%%**********************]  1 of 1 completed\n",
      "[*********************100%%**********************]  1 of 1 completed"
     ]
    },
    {
     "name": "stdout",
     "output_type": "stream",
     "text": [
      "9511.T\n",
      "9513.T\n",
      "9517.T\n"
     ]
    },
    {
     "name": "stderr",
     "output_type": "stream",
     "text": [
      "\n",
      "[*********************100%%**********************]  1 of 1 completed\n",
      "[*********************100%%**********************]  1 of 1 completed\n",
      "[*********************100%%**********************]  1 of 1 completed"
     ]
    },
    {
     "name": "stdout",
     "output_type": "stream",
     "text": [
      "9519.T\n",
      "9531.T\n"
     ]
    },
    {
     "name": "stderr",
     "output_type": "stream",
     "text": [
      "\n",
      "[*********************100%%**********************]  1 of 1 completed\n"
     ]
    },
    {
     "name": "stdout",
     "output_type": "stream",
     "text": [
      "9532.T\n",
      "9533.T\n"
     ]
    },
    {
     "name": "stderr",
     "output_type": "stream",
     "text": [
      "[*********************100%%**********************]  1 of 1 completed\n"
     ]
    },
    {
     "name": "stdout",
     "output_type": "stream",
     "text": [
      "9534.T\n"
     ]
    },
    {
     "name": "stderr",
     "output_type": "stream",
     "text": [
      "[*********************100%%**********************]  1 of 1 completed\n",
      "[*********************100%%**********************]  1 of 1 completed"
     ]
    },
    {
     "name": "stdout",
     "output_type": "stream",
     "text": [
      "9535.T\n"
     ]
    },
    {
     "name": "stderr",
     "output_type": "stream",
     "text": [
      "\n",
      "[*********************100%%**********************]  1 of 1 completed"
     ]
    },
    {
     "name": "stdout",
     "output_type": "stream",
     "text": [
      "9536.T\n"
     ]
    },
    {
     "name": "stderr",
     "output_type": "stream",
     "text": [
      "\n",
      "[*********************100%%**********************]  1 of 1 completed\n"
     ]
    },
    {
     "name": "stdout",
     "output_type": "stream",
     "text": [
      "9543.T\n",
      "9551.T\n"
     ]
    },
    {
     "name": "stderr",
     "output_type": "stream",
     "text": [
      "[*********************100%%**********************]  1 of 1 completed\n"
     ]
    }
   ],
   "source": [
    "elec_gas_return = get_data(ele_gas)"
   ]
  },
  {
   "cell_type": "code",
   "execution_count": 21,
   "id": "399fc3db",
   "metadata": {},
   "outputs": [
    {
     "data": {
      "text/html": [
       "<div>\n",
       "<style scoped>\n",
       "    .dataframe tbody tr th:only-of-type {\n",
       "        vertical-align: middle;\n",
       "    }\n",
       "\n",
       "    .dataframe tbody tr th {\n",
       "        vertical-align: top;\n",
       "    }\n",
       "\n",
       "    .dataframe thead th {\n",
       "        text-align: right;\n",
       "    }\n",
       "</style>\n",
       "<table border=\"1\" class=\"dataframe\">\n",
       "  <thead>\n",
       "    <tr style=\"text-align: right;\">\n",
       "      <th></th>\n",
       "      <th>9501.T</th>\n",
       "      <th>9502.T</th>\n",
       "      <th>9503.T</th>\n",
       "      <th>9504.T</th>\n",
       "      <th>9505.T</th>\n",
       "      <th>9506.T</th>\n",
       "      <th>9507.T</th>\n",
       "      <th>9508.T</th>\n",
       "      <th>9509.T</th>\n",
       "      <th>9511.T</th>\n",
       "      <th>9513.T</th>\n",
       "      <th>9531.T</th>\n",
       "      <th>9532.T</th>\n",
       "      <th>9533.T</th>\n",
       "      <th>9534.T</th>\n",
       "      <th>9535.T</th>\n",
       "      <th>9536.T</th>\n",
       "      <th>9543.T</th>\n",
       "    </tr>\n",
       "    <tr>\n",
       "      <th>Date</th>\n",
       "      <th></th>\n",
       "      <th></th>\n",
       "      <th></th>\n",
       "      <th></th>\n",
       "      <th></th>\n",
       "      <th></th>\n",
       "      <th></th>\n",
       "      <th></th>\n",
       "      <th></th>\n",
       "      <th></th>\n",
       "      <th></th>\n",
       "      <th></th>\n",
       "      <th></th>\n",
       "      <th></th>\n",
       "      <th></th>\n",
       "      <th></th>\n",
       "      <th></th>\n",
       "      <th></th>\n",
       "    </tr>\n",
       "  </thead>\n",
       "  <tbody>\n",
       "    <tr>\n",
       "      <th>2006-01-02</th>\n",
       "      <td>2560.274658</td>\n",
       "      <td>1742.818604</td>\n",
       "      <td>1701.020386</td>\n",
       "      <td>1301.841431</td>\n",
       "      <td>1592.149170</td>\n",
       "      <td>1634.630493</td>\n",
       "      <td>1694.237549</td>\n",
       "      <td>1777.323242</td>\n",
       "      <td>1746.473633</td>\n",
       "      <td>1167.949219</td>\n",
       "      <td>1683.131348</td>\n",
       "      <td>1779.984863</td>\n",
       "      <td>1368.234863</td>\n",
       "      <td>1786.663452</td>\n",
       "      <td>1220.289917</td>\n",
       "      <td>381.605957</td>\n",
       "      <td>1693.903076</td>\n",
       "      <td>605.227722</td>\n",
       "    </tr>\n",
       "    <tr>\n",
       "      <th>2006-01-03</th>\n",
       "      <td>2560.274658</td>\n",
       "      <td>1742.818604</td>\n",
       "      <td>1701.020386</td>\n",
       "      <td>1301.841431</td>\n",
       "      <td>1592.149170</td>\n",
       "      <td>1603.981567</td>\n",
       "      <td>1694.237549</td>\n",
       "      <td>1777.323242</td>\n",
       "      <td>1746.473633</td>\n",
       "      <td>1167.949219</td>\n",
       "      <td>1683.131348</td>\n",
       "      <td>1779.984863</td>\n",
       "      <td>1368.234863</td>\n",
       "      <td>1786.663452</td>\n",
       "      <td>1220.289917</td>\n",
       "      <td>381.605957</td>\n",
       "      <td>1693.903076</td>\n",
       "      <td>605.227722</td>\n",
       "    </tr>\n",
       "    <tr>\n",
       "      <th>2006-01-04</th>\n",
       "      <td>2546.869873</td>\n",
       "      <td>1733.515625</td>\n",
       "      <td>1711.085449</td>\n",
       "      <td>1307.538330</td>\n",
       "      <td>1595.566040</td>\n",
       "      <td>1648.252563</td>\n",
       "      <td>1708.326904</td>\n",
       "      <td>1784.265747</td>\n",
       "      <td>1753.750488</td>\n",
       "      <td>1308.425903</td>\n",
       "      <td>2014.770264</td>\n",
       "      <td>1800.366699</td>\n",
       "      <td>1378.320435</td>\n",
       "      <td>1813.104126</td>\n",
       "      <td>1226.815674</td>\n",
       "      <td>367.446289</td>\n",
       "      <td>1725.155762</td>\n",
       "      <td>605.970459</td>\n",
       "    </tr>\n",
       "    <tr>\n",
       "      <th>2006-01-05</th>\n",
       "      <td>2578.147217</td>\n",
       "      <td>1745.919556</td>\n",
       "      <td>1717.795410</td>\n",
       "      <td>1316.084229</td>\n",
       "      <td>1605.815674</td>\n",
       "      <td>1655.063721</td>\n",
       "      <td>1718.893921</td>\n",
       "      <td>1808.565186</td>\n",
       "      <td>1761.027466</td>\n",
       "      <td>1353.816528</td>\n",
       "      <td>2099.550537</td>\n",
       "      <td>1847.924194</td>\n",
       "      <td>1391.767944</td>\n",
       "      <td>1820.659058</td>\n",
       "      <td>1223.552979</td>\n",
       "      <td>366.738281</td>\n",
       "      <td>1712.654419</td>\n",
       "      <td>605.227722</td>\n",
       "    </tr>\n",
       "    <tr>\n",
       "      <th>2006-01-06</th>\n",
       "      <td>2582.615234</td>\n",
       "      <td>1755.222412</td>\n",
       "      <td>1707.730225</td>\n",
       "      <td>1333.176636</td>\n",
       "      <td>1622.899780</td>\n",
       "      <td>1658.468994</td>\n",
       "      <td>1729.460815</td>\n",
       "      <td>1812.036377</td>\n",
       "      <td>1786.496826</td>\n",
       "      <td>1340.002075</td>\n",
       "      <td>2134.459961</td>\n",
       "      <td>1810.557373</td>\n",
       "      <td>1408.575684</td>\n",
       "      <td>1862.209717</td>\n",
       "      <td>1226.815674</td>\n",
       "      <td>366.738281</td>\n",
       "      <td>1731.406372</td>\n",
       "      <td>604.485291</td>\n",
       "    </tr>\n",
       "  </tbody>\n",
       "</table>\n",
       "</div>"
      ],
      "text/plain": [
       "                 9501.T       9502.T       9503.T       9504.T       9505.T  \\\n",
       "Date                                                                          \n",
       "2006-01-02  2560.274658  1742.818604  1701.020386  1301.841431  1592.149170   \n",
       "2006-01-03  2560.274658  1742.818604  1701.020386  1301.841431  1592.149170   \n",
       "2006-01-04  2546.869873  1733.515625  1711.085449  1307.538330  1595.566040   \n",
       "2006-01-05  2578.147217  1745.919556  1717.795410  1316.084229  1605.815674   \n",
       "2006-01-06  2582.615234  1755.222412  1707.730225  1333.176636  1622.899780   \n",
       "\n",
       "                 9506.T       9507.T       9508.T       9509.T       9511.T  \\\n",
       "Date                                                                          \n",
       "2006-01-02  1634.630493  1694.237549  1777.323242  1746.473633  1167.949219   \n",
       "2006-01-03  1603.981567  1694.237549  1777.323242  1746.473633  1167.949219   \n",
       "2006-01-04  1648.252563  1708.326904  1784.265747  1753.750488  1308.425903   \n",
       "2006-01-05  1655.063721  1718.893921  1808.565186  1761.027466  1353.816528   \n",
       "2006-01-06  1658.468994  1729.460815  1812.036377  1786.496826  1340.002075   \n",
       "\n",
       "                 9513.T       9531.T       9532.T       9533.T       9534.T  \\\n",
       "Date                                                                          \n",
       "2006-01-02  1683.131348  1779.984863  1368.234863  1786.663452  1220.289917   \n",
       "2006-01-03  1683.131348  1779.984863  1368.234863  1786.663452  1220.289917   \n",
       "2006-01-04  2014.770264  1800.366699  1378.320435  1813.104126  1226.815674   \n",
       "2006-01-05  2099.550537  1847.924194  1391.767944  1820.659058  1223.552979   \n",
       "2006-01-06  2134.459961  1810.557373  1408.575684  1862.209717  1226.815674   \n",
       "\n",
       "                9535.T       9536.T      9543.T  \n",
       "Date                                             \n",
       "2006-01-02  381.605957  1693.903076  605.227722  \n",
       "2006-01-03  381.605957  1693.903076  605.227722  \n",
       "2006-01-04  367.446289  1725.155762  605.970459  \n",
       "2006-01-05  366.738281  1712.654419  605.227722  \n",
       "2006-01-06  366.738281  1731.406372  604.485291  "
      ]
     },
     "execution_count": 21,
     "metadata": {},
     "output_type": "execute_result"
    }
   ],
   "source": [
    "elec_gas_return.dropna(axis=1, how=\"any\", inplace=True)\n",
    "elec_gas_return.head()"
   ]
  },
  {
   "cell_type": "code",
   "execution_count": 25,
   "id": "7605a849",
   "metadata": {},
   "outputs": [],
   "source": [
    "import itertools\n",
    "from statsmodels.tsa.stattools import adfuller\n",
    "from statsmodels.tsa.vector_ar.vecm import coint_johansen\n",
    "import statsmodels.api as sm\n"
   ]
  },
  {
   "cell_type": "code",
   "execution_count": 24,
   "id": "f120845c",
   "metadata": {},
   "outputs": [
    {
     "name": "stdout",
     "output_type": "stream",
     "text": [
      "[('9502.T', '9503.T'), ('9502.T', '9534.T'), ('9504.T', '9534.T'), ('9505.T', '9534.T'), ('9506.T', '9534.T'), ('9511.T', '9532.T'), ('9511.T', '9534.T'), ('9513.T', '9534.T'), ('9531.T', '9535.T'), ('9532.T', '9535.T'), ('9532.T', '9536.T'), ('9533.T', '9534.T'), ('9534.T', '9535.T'), ('9534.T', '9536.T'), ('9535.T', '9543.T')]\n"
     ]
    }
   ],
   "source": [
    "pairs = []\n",
    "i = 1\n",
    "for comb in itertools.combinations(elec_gas_return.columns,2):\n",
    "    prices = elec_gas_return.loc[:,comb]\n",
    "    #print(df_train.loc[:,comb])\n",
    "    prices = prices.dropna()\n",
    "    try:\n",
    "        # JohansenTestResult\n",
    "        jrt = coint_johansen(prices,k_ar_diff=0,det_order=-1)\n",
    "        if jrt.lr1[0] > jrt.cvt[0,2] and jrt.lr1[1] < jrt.cvt[1,0]\\\n",
    "        and jrt.lr2[0] > jrt.cvm[0,2] and jrt.lr2[1] < jrt.cvm[1,0]:\n",
    "            pairs.append(comb)\n",
    "    except ValueError as error:\n",
    "        print(i,comb)\n",
    "    i += 1\n",
    "        \n",
    "print(pairs)"
   ]
  },
  {
   "cell_type": "code",
   "execution_count": 26,
   "id": "33e4b433",
   "metadata": {},
   "outputs": [],
   "source": [
    "def plot_price_and_residual(df_train, pair):\n",
    "    #get the names of the stocks\n",
    "    stock1 = pair[0]\n",
    "    stock2 = pair[1]\n",
    "    \n",
    "    X = df_train[stock1]\n",
    "    Y = df_train[stock2]\n",
    "    #X = sm.add_constant(X)\n",
    "    \n",
    "    #linear regression with X and Y.\n",
    "    model = sm.OLS(Y, X).fit()\n",
    "    residuals = model.resid\n",
    "    mean_residuals = residuals.mean()\n",
    "    std_residuals = residuals.std()\n",
    "    fig, axs = plt.subplots(2, 1, figsize=(12, 10), sharex=True)\n",
    "\n",
    "    #plot prices\n",
    "    axs[0].plot(X.index, X, label=stock1, color='blue')\n",
    "    axs[0].plot(Y.index, Y, label=stock2, color='orange')\n",
    "    axs[0].set_title('Stock Prices')\n",
    "    axs[0].set_ylabel('Price')\n",
    "    axs[0].legend()\n",
    "\n",
    "    #plot residual, its mean, and mean +_ 2 * std\n",
    "    axs[1].plot(residuals, label='Residuals')\n",
    "    axs[1].axhline(mean_residuals, color='red', linestyle='-', linewidth=1, label='Mean')\n",
    "    axs[1].axhline(mean_residuals + 2 * std_residuals, color='green', linestyle='--', linewidth=1, label='Mean + 2 Std')\n",
    "    axs[1].axhline(mean_residuals - 2 * std_residuals, color='orange', linestyle='--', linewidth=1, label='Mean - 2 Std')\n",
    "    axs[1].set_title('Residuals of Linear Regression')\n",
    "    axs[1].set_xlabel('Date')\n",
    "    axs[1].set_ylabel('Residuals')\n",
    "    axs[1].legend()\n",
    "\n",
    "    plt.tight_layout()\n",
    "    plt.show()"
   ]
  },
  {
   "cell_type": "code",
   "execution_count": null,
   "id": "af52a013",
   "metadata": {},
   "outputs": [],
   "source": [
    "plot_price_and_residual(elec_gas_return, pairs[1])"
   ]
  },
  {
   "cell_type": "code",
   "execution_count": null,
   "id": "ae7d80a0",
   "metadata": {},
   "outputs": [],
   "source": []
  }
 ],
 "metadata": {
  "kernelspec": {
   "display_name": "Python [conda env:data_kudo] *",
   "language": "python",
   "name": "conda-env-data_kudo-py"
  },
  "language_info": {
   "codemirror_mode": {
    "name": "ipython",
    "version": 3
   },
   "file_extension": ".py",
   "mimetype": "text/x-python",
   "name": "python",
   "nbconvert_exporter": "python",
   "pygments_lexer": "ipython3",
   "version": "3.8.19"
  }
 },
 "nbformat": 4,
 "nbformat_minor": 5
}
